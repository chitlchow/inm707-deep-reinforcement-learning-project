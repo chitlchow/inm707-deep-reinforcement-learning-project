{
 "cells": [
  {
   "cell_type": "code",
   "execution_count": 6,
   "metadata": {
    "collapsed": true
   },
   "outputs": [],
   "source": [
    "from src.snake import Snake\n",
    "from src.food import Food\n",
    "import pygame\n",
    "\n",
    "pygame.init()\n",
    "snake = Snake()\n",
    "food = Food()\n",
    "up = (0,-1)\n",
    "down = (0,1)\n",
    "left = (-1,0)\n",
    "right = (1,0)"
   ]
  },
  {
   "cell_type": "code",
   "execution_count": 7,
   "outputs": [
    {
     "data": {
      "text/plain": "[(0, -1), (0, 1), (-1, 0), (1, 0)]"
     },
     "execution_count": 7,
     "metadata": {},
     "output_type": "execute_result"
    }
   ],
   "source": [
    "possible_actions = [up, down, left, right]\n",
    "possible_actions"
   ],
   "metadata": {
    "collapsed": false
   }
  },
  {
   "cell_type": "code",
   "execution_count": 8,
   "outputs": [
    {
     "data": {
      "text/plain": "(0, -1)"
     },
     "execution_count": 8,
     "metadata": {},
     "output_type": "execute_result"
    }
   ],
   "source": [
    "current_direction = snake.direction\n",
    "current_direction"
   ],
   "metadata": {
    "collapsed": false
   }
  },
  {
   "cell_type": "code",
   "execution_count": 10,
   "outputs": [
    {
     "data": {
      "text/plain": "[(0, -1), (-1, 0), (1, 0)]"
     },
     "execution_count": 10,
     "metadata": {},
     "output_type": "execute_result"
    }
   ],
   "source": [
    "if current_direction == up:\n",
    "    possible_actions.remove(down)\n",
    "elif current_direction == down:\n",
    "    possible_actions.remove(up)\n",
    "elif current_direction == right:\n",
    "    possible_actions.remove(left)\n",
    "elif current_direction == left:\n",
    "    possible_actions.remove(right)\n",
    "else:\n",
    "    pass\n",
    "possible_actions"
   ],
   "metadata": {
    "collapsed": false
   }
  },
  {
   "cell_type": "code",
   "execution_count": 16,
   "outputs": [
    {
     "name": "stdout",
     "output_type": "stream",
     "text": [
      "(720.0, 450.0)\n",
      "(1020, 80)\n",
      "[(720.0, 430.0), (700.0, 450.0), (740.0, 450.0)]\n"
     ]
    }
   ],
   "source": [
    "current_head_position = snake.positions[0]\n",
    "next_states = []\n",
    "gridsize = 20\n",
    "print(current_head_position)\n",
    "print(food.position)\n",
    "for action in possible_actions:\n",
    "    next_states.append((current_head_position[0] + action[0]*gridsize, current_head_position[1] + action[1]*gridsize))\n",
    "\n",
    "print(next_states)"
   ],
   "metadata": {
    "collapsed": false
   }
  },
  {
   "cell_type": "code",
   "execution_count": 27,
   "outputs": [
    {
     "data": {
      "text/plain": "-300.0"
     },
     "execution_count": 27,
     "metadata": {},
     "output_type": "execute_result"
    }
   ],
   "source": [
    "next_states[0][0] - food.position[0]"
   ],
   "metadata": {
    "collapsed": false
   }
  },
  {
   "cell_type": "code",
   "execution_count": 30,
   "outputs": [
    {
     "name": "stdout",
     "output_type": "stream",
     "text": [
      "3.076923076923077\n",
      "2.898550724637681\n",
      "3.076923076923077\n"
     ]
    }
   ],
   "source": [
    "# Think about this: We are going to compute the rewards based on the distance between the snake and the food\n",
    "# Therefore, the snake is going to choose a move that will maximise the rewards\n",
    "\n",
    "def city_block_distance(state, food):\n",
    "    x = state[0] - food.position[0]\n",
    "    y = state[1] - food.position[1]\n",
    "    return abs(x) + abs(y)\n",
    "\n",
    "def compute_rewards(state, food):\n",
    "    distance = city_block_distance(state, food)/20       # We consider the head of the snake and the food\n",
    "    return 100/distance\n",
    "for state in next_states:\n",
    "    print(compute_rewards(state, food))\n"
   ],
   "metadata": {
    "collapsed": false
   }
  },
  {
   "cell_type": "code",
   "execution_count": 1,
   "outputs": [
    {
     "name": "stdout",
     "output_type": "stream",
     "text": [
      "pygame 2.3.0 (SDL 2.24.2, Python 3.9.0)\n",
      "Hello from the pygame community. https://www.pygame.org/contribute.html\n",
      "([(100.0, 120.0)], (60, 40))\n",
      "([(100.0, 140.0)], (60, 40))\n",
      "([(100.0, 160.0)], (60, 40))\n",
      "([(100.0, 180.0)], (60, 40))\n",
      "([(100.0, 0.0)], (60, 40))\n",
      "([(100.0, 20.0)], (60, 40))\n",
      "([(100.0, 40.0)], (60, 40))\n",
      "([(100.0, 60.0)], (60, 40))\n",
      "([(100.0, 80.0)], (60, 40))\n",
      "([(100.0, 100.0)], (60, 40))\n",
      "([(100.0, 120.0)], (60, 40))\n",
      "([(100.0, 140.0)], (60, 40))\n",
      "([(100.0, 160.0)], (60, 40))\n",
      "([(100.0, 180.0)], (60, 40))\n",
      "([(100.0, 0.0)], (60, 40))\n",
      "([(100.0, 20.0)], (60, 40))\n",
      "([(100.0, 40.0)], (60, 40))\n",
      "([(100.0, 60.0)], (60, 40))\n"
     ]
    },
    {
     "ename": "SystemExit",
     "evalue": "",
     "output_type": "error",
     "traceback": [
      "An exception has occurred, use %tb to see the full traceback.\n",
      "\u001B[0;31mSystemExit\u001B[0m\n"
     ]
    },
    {
     "name": "stderr",
     "output_type": "stream",
     "text": [
      "/Users/chitlchow/Desktop/INM427 Neural Computing/inm427-individual-project/venv/lib/python3.9/site-packages/IPython/core/interactiveshell.py:3468: UserWarning: To exit: use 'exit', 'quit', or Ctrl-D.\n",
      "  warn(\"To exit: use 'exit', 'quit', or Ctrl-D.\", stacklevel=1)\n"
     ]
    }
   ],
   "source": [
    "import pygame\n",
    "from src.snake import Snake\n",
    "from src.food import Food\n",
    "import pandas as pd\n",
    "\n",
    "\n",
    "# Helper Function\n",
    "def drawGrid(surface):\n",
    "    for y in range(0, int(grid_height)):\n",
    "        for x in range(0, int(grid_width)):\n",
    "            if (x+y)%2 == 0:\n",
    "                r = pygame.Rect((x*gridsize, y*gridsize), (gridsize,gridsize))\n",
    "                pygame.draw.rect(surface,(93,216,228), r)\n",
    "            else:\n",
    "                rr = pygame.Rect((x*gridsize, y*gridsize), (gridsize,gridsize))\n",
    "                pygame.draw.rect(surface, (84,194,205), rr)\n",
    "\n",
    "\n",
    "def get_state(snake, food):\n",
    "    return snake.positions, food.position\n",
    "\n",
    "def update_Q_matrix(Q, snake, food):\n",
    "    current_state = get_state(snake, food)\n",
    "    current_direction = snake.direction\n",
    "\n",
    "screen_width = 200\n",
    "screen_height = 200\n",
    "\n",
    "gridsize = 20\n",
    "grid_width = screen_width/gridsize\n",
    "grid_height = screen_height/gridsize\n",
    "\n",
    "up = (0,-1)\n",
    "down = (0,1)\n",
    "left = (-1,0)\n",
    "right = (1,0)\n",
    "\n",
    "# Main program for the game\n",
    "def main():\n",
    "    pygame.init()\n",
    "\n",
    "    clock = pygame.time.Clock()\n",
    "    screen = pygame.display.set_mode((screen_width, screen_height), 0, 32)\n",
    "\n",
    "    surface = pygame.Surface(screen.get_size())\n",
    "    surface = surface.convert()\n",
    "    drawGrid(surface)\n",
    "\n",
    "    snake = Snake()\n",
    "    food = Food()\n",
    "\n",
    "    # Score label on screen\n",
    "    myfont = pygame.font.SysFont(\"monospace\",16)\n",
    "\n",
    "    while (True):\n",
    "        clock.tick(10)\n",
    "        snake.handle_keys()\n",
    "        drawGrid(surface)\n",
    "        snake.move()\n",
    "        if snake.get_head_position() == food.position:\n",
    "            snake.length += 1\n",
    "            snake.score += 1\n",
    "            food.randomize_position()\n",
    "        snake.draw(surface)\n",
    "        food.draw(surface)\n",
    "        screen.blit(surface, (0,0))\n",
    "        text = myfont.render(\"Score {0}\".format(snake.score), 1, (0,0,0))\n",
    "        screen.blit(text, (5,10))\n",
    "        pygame.display.update()\n",
    "        print(get_state(snake, food))\n",
    "\n",
    "main()"
   ],
   "metadata": {
    "collapsed": false
   }
  },
  {
   "cell_type": "code",
   "execution_count": null,
   "outputs": [],
   "source": [],
   "metadata": {
    "collapsed": false
   }
  }
 ],
 "metadata": {
  "kernelspec": {
   "display_name": "Python 3",
   "language": "python",
   "name": "python3"
  },
  "language_info": {
   "codemirror_mode": {
    "name": "ipython",
    "version": 2
   },
   "file_extension": ".py",
   "mimetype": "text/x-python",
   "name": "python",
   "nbconvert_exporter": "python",
   "pygments_lexer": "ipython2",
   "version": "2.7.6"
  }
 },
 "nbformat": 4,
 "nbformat_minor": 0
}
